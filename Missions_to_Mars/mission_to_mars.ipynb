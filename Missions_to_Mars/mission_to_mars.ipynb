{
 "metadata": {
  "language_info": {
   "codemirror_mode": {
    "name": "ipython",
    "version": 3
   },
   "file_extension": ".py",
   "mimetype": "text/x-python",
   "name": "python",
   "nbconvert_exporter": "python",
   "pygments_lexer": "ipython3",
   "version": "3.7.6-final"
  },
  "orig_nbformat": 2,
  "kernelspec": {
   "name": "python3",
   "display_name": "Python 3"
  }
 },
 "nbformat": 4,
 "nbformat_minor": 2,
 "cells": [
  {
   "cell_type": "code",
   "execution_count": 1,
   "metadata": {},
   "outputs": [],
   "source": [
    "import requests\n",
    "from bs4 import BeautifulSoup as bs4\n",
    "import requests\n",
    "import pymongo\n",
    "from webdriver_manager.chrome import ChromeDriverManager\n",
    "from splinter import Browser\n",
    "import pandas as pd"
   ]
  },
  {
   "cell_type": "code",
   "execution_count": 2,
   "metadata": {},
   "outputs": [],
   "source": [
    "url = 'https://mars.nasa.gov/news/'\n",
    "response = requests.get(url)\n",
    "\n",
    "soup = bs4(response.text, 'lxml')"
   ]
  },
  {
   "cell_type": "code",
   "execution_count": 3,
   "metadata": {},
   "outputs": [],
   "source": [
    "news_title = [x.text.strip() for x in soup.find_all('div', class_='content_title')]\n",
    "\n",
    "news_p = [x.text.strip() for x in soup.find_all('div', class_=\"rollover_description_inner\")]"
   ]
  },
  {
   "cell_type": "code",
   "execution_count": 4,
   "metadata": {},
   "outputs": [
    {
     "output_type": "execute_result",
     "data": {
      "text/plain": [
       "[{'title': 'NASA to Broadcast Mars 2020 Perseverance Launch, Prelaunch Activities',\n",
       "  'description': 'Starting July 27, news activities will cover everything from mission engineering and science to returning samples from Mars to, of course, the launch itself.'},\n",
       " {'title': \"The Launch Is Approaching for NASA's Next Mars Rover, Perseverance\",\n",
       "  'description': \"The Red Planet's surface has been visited by eight NASA spacecraft. The ninth will be the first that includes a roundtrip ticket in its flight plan.\"},\n",
       " {'title': 'NASA to Hold Mars 2020 Perseverance Rover Launch Briefing',\n",
       "  'description': \"Learn more about the agency's next Red Planet mission during a live event on June 17.\"},\n",
       " {'title': \"Alabama High School Student Names NASA's Mars Helicopter\",\n",
       "  'description': \"Vaneeza Rupani's essay was chosen as the name for the small spacecraft, which will mark NASA's first attempt at powered flight on another planet.\"},\n",
       " {'title': \"Mars Helicopter Attached to NASA's Perseverance Rover\",\n",
       "  'description': \"The team also fueled the rover's sky crane to get ready for this summer's history-making launch.\"},\n",
       " {'title': \"NASA's Perseverance Mars Rover Gets Its Wheels and Air Brakes\",\n",
       "  'description': 'After the rover was shipped from JPL to Kennedy Space Center, the team is getting closer to finalizing the spacecraft for launch later this summer.'}]"
      ]
     },
     "metadata": {},
     "execution_count": 4
    }
   ],
   "source": [
    "title_description = []\n",
    "count= 0\n",
    "for title in news_title:\n",
    "    title_description.append({'title':title, 'description':news_p[count]})\n",
    "    count+=1\n",
    "title_description"
   ]
  },
  {
   "cell_type": "code",
   "execution_count": 5,
   "metadata": {},
   "outputs": [
    {
     "output_type": "stream",
     "name": "stderr",
     "text": [
      "[WDM] - Current google-chrome version is 86.0.4240\n",
      "[WDM] - Get LATEST driver version for 86.0.4240\n",
      "[WDM] - Driver [C:\\Users\\state\\.wdm\\drivers\\chromedriver\\win32\\86.0.4240.22\\chromedriver.exe] found in cache\n",
      " \n"
     ]
    }
   ],
   "source": [
    "\n"
   ]
  },
  {
   "cell_type": "code",
   "execution_count": 18,
   "metadata": {},
   "outputs": [
    {
     "output_type": "stream",
     "name": "stderr",
     "text": [
      "[WDM] - Current google-chrome version is 86.0.4240\n",
      "[WDM] - Get LATEST driver version for 86.0.4240\n",
      "[WDM] - Driver [C:\\Users\\state\\.wdm\\drivers\\chromedriver\\win32\\86.0.4240.22\\chromedriver.exe] found in cache\n",
      " \n"
     ]
    },
    {
     "output_type": "execute_result",
     "data": {
      "text/plain": [
       "'https://www.jpl.nasa.gov//spaceimages/images/mediumsize/PIA17448_ip.jpg'"
      ]
     },
     "metadata": {},
     "execution_count": 18
    }
   ],
   "source": [
    "executable_path = {'executable_path': ChromeDriverManager().install()}\n",
    "browser = Browser('chrome', **executable_path, headless=False)\n",
    "url = 'https://www.jpl.nasa.gov/spaceimages/?search=&category=Mars'\n",
    "browser.visit(url)\n",
    "browser.click_link_by_id('full_image')\n",
    "browser.is_text_present('Probably Not, Using for wait time', wait_time = 5)\n",
    "soup = bs4(browser.html, 'html.parser')\n",
    "img = soup.find_all('img', class_='fancybox-image')[0]\n",
    "\n",
    "featured_image_url = 'https://www.jpl.nasa.gov/' +img['src']\n",
    "featured_image_url\n"
   ]
  },
  {
   "cell_type": "code",
   "execution_count": 20,
   "metadata": {},
   "outputs": [
    {
     "output_type": "execute_result",
     "data": {
      "text/plain": [
       "[<img alt=\"\" class=\"print_only print_logo\" src=\"/assets/images/logo_nasa_trio_black@2x.png\"/>,\n",
       " <img alt=\"\" class=\"print_only print_logo\" src=\"/assets/images/logo_nasa_trio_black@2x.png\"/>,\n",
       " <img alt=\"more arrow\" src=\"/assets/images/overlay-arrow.png\"/>,\n",
       " <img alt=\"Osuga Valles\" class=\"thumb\" src=\"/spaceimages/images/wallpaper/PIA24189-640x350.jpg\" title=\"Osuga Valles\"/>,\n",
       " <img alt=\"more arrow\" src=\"/assets/images/overlay-arrow.png\"/>,\n",
       " <img alt=\"Matara Crater Dunes\" class=\"thumb\" src=\"/spaceimages/images/wallpaper/PIA24188-640x350.jpg\" title=\"Matara Crater Dunes\"/>,\n",
       " <img alt=\"more arrow\" src=\"/assets/images/overlay-arrow.png\"/>,\n",
       " <img alt=\"Mangala Valles\" class=\"thumb\" src=\"/spaceimages/images/wallpaper/PIA24187-640x350.jpg\" title=\"Mangala Valles\"/>,\n",
       " <img alt=\"more arrow\" src=\"/assets/images/overlay-arrow.png\"/>,\n",
       " <img alt=\"Chaos\" class=\"thumb\" src=\"/spaceimages/images/wallpaper/PIA24186-640x350.jpg\" title=\"Chaos\"/>,\n",
       " <img alt=\"more arrow\" src=\"/assets/images/overlay-arrow.png\"/>,\n",
       " <img alt=\"Channel\" class=\"thumb\" src=\"/spaceimages/images/wallpaper/PIA24185-640x350.jpg\" title=\"Channel\"/>,\n",
       " <img alt=\"more arrow\" src=\"/assets/images/overlay-arrow.png\"/>,\n",
       " <img alt=\"Rabe Crater Dunes\" class=\"thumb\" src=\"/spaceimages/images/wallpaper/PIA24184-640x350.jpg\" title=\"Rabe Crater Dunes\"/>,\n",
       " <img alt=\"more arrow\" src=\"/assets/images/overlay-arrow.png\"/>,\n",
       " <img adim=\"\" alt=\"Ma\" class=\"thumb\" src=\"/spaceimages/images/wallpaper/PIA24183-640x350.jpg\" title=\"Ma\" vallis'=\"\"/>,\n",
       " <img alt=\"more arrow\" src=\"/assets/images/overlay-arrow.png\"/>,\n",
       " <img alt=\"Crater Rim Channels\" class=\"thumb\" src=\"/spaceimages/images/wallpaper/PIA24182-640x350.jpg\" title=\"Crater Rim Channels\"/>,\n",
       " <img alt=\"more arrow\" src=\"/assets/images/overlay-arrow.png\"/>,\n",
       " <img alt=\"Chaos\" class=\"thumb\" src=\"/spaceimages/images/wallpaper/PIA24181-640x350.jpg\" title=\"Chaos\"/>,\n",
       " <img alt=\"more arrow\" src=\"/assets/images/overlay-arrow.png\"/>,\n",
       " <img alt=\"Bright Hills\" class=\"thumb\" src=\"/spaceimages/images/wallpaper/PIA24160-640x350.jpg\" title=\"Bright Hills\"/>,\n",
       " <img alt=\"more arrow\" src=\"/assets/images/overlay-arrow.png\"/>,\n",
       " <img alt=\"Russell Crater Dunes\" class=\"thumb\" src=\"/spaceimages/images/wallpaper/PIA24159-640x350.jpg\" title=\"Russell Crater Dunes\"/>,\n",
       " <img alt=\"more arrow\" src=\"/assets/images/overlay-arrow.png\"/>,\n",
       " <img alt=\"Rabe Crater Dunes\" class=\"thumb\" src=\"/spaceimages/images/wallpaper/PIA24158-640x350.jpg\" title=\"Rabe Crater Dunes\"/>,\n",
       " <img alt=\"more arrow\" src=\"/assets/images/overlay-arrow.png\"/>,\n",
       " <img alt=\"Ancient Jezero Crater (Illustration)\" class=\"thumb\" src=\"/spaceimages/images/wallpaper/PIA24172-640x350.jpg\" title=\"Ancient Jezero Crater (Illustration)\"/>,\n",
       " <img alt=\"more arrow\" src=\"/assets/images/overlay-arrow.png\"/>,\n",
       " <img alt=\"Eberswalde Crater Delta\" class=\"thumb\" src=\"/spaceimages/images/wallpaper/PIA24157-640x350.jpg\" title=\"Eberswalde Crater Delta\"/>,\n",
       " <img alt=\"more arrow\" src=\"/assets/images/overlay-arrow.png\"/>,\n",
       " <img alt=\"Ganges Chasma\" class=\"thumb\" src=\"/spaceimages/images/wallpaper/PIA24156-640x350.jpg\" title=\"Ganges Chasma\"/>,\n",
       " <img alt=\"more arrow\" src=\"/assets/images/overlay-arrow.png\"/>,\n",
       " <img alt=\"Russell Crater Dunes\" class=\"thumb\" src=\"/spaceimages/images/wallpaper/PIA24155-640x350.jpg\" title=\"Russell Crater Dunes\"/>,\n",
       " <img alt=\"more arrow\" src=\"/assets/images/overlay-arrow.png\"/>,\n",
       " <img alt=\"Replica of InSight\" arm=\"\" class=\"thumb\" practices=\"\" s=\"\" scraping'=\"\" src=\"/spaceimages/images/wallpaper/PIA24099-640x350.jpg\" title=\"Replica of InSight\"/>,\n",
       " <img alt=\"more arrow\" src=\"/assets/images/overlay-arrow.png\"/>,\n",
       " <img alt=\"InSight\" arm=\"\" back,=\"\" class=\"thumb\" mole'=\"\" pulls=\"\" revealing=\"\" s=\"\" src=\"/spaceimages/images/wallpaper/PIA24098-640x350.jpg\" the=\"\" title=\"InSight\"/>,\n",
       " <img alt=\"more arrow\" src=\"/assets/images/overlay-arrow.png\"/>,\n",
       " <img alt=\"Proctor Crater Dunes\" class=\"thumb\" src=\"/spaceimages/images/wallpaper/PIA24152-640x350.jpg\" title=\"Proctor Crater Dunes\"/>,\n",
       " <img alt=\"more arrow\" src=\"/assets/images/overlay-arrow.png\"/>,\n",
       " <img alt=\"Pit Craters and Giant Volcanoes\" class=\"thumb\" src=\"/spaceimages/images/wallpaper/PIA24149-640x350.jpg\" title=\"Pit Craters and Giant Volcanoes\"/>,\n",
       " <img alt=\"more arrow\" src=\"/assets/images/overlay-arrow.png\"/>,\n",
       " <img alt=\"Dust Devil Dance\" class=\"thumb\" src=\"/spaceimages/images/wallpaper/PIA24148-640x350.jpg\" title=\"Dust Devil Dance\"/>,\n",
       " <img alt=\"more arrow\" src=\"/assets/images/overlay-arrow.png\"/>,\n",
       " <img alt=\"Cliffs in Ancient Ice\" class=\"thumb\" src=\"/spaceimages/images/wallpaper/PIA24147-640x350.jpg\" title=\"Cliffs in Ancient Ice\"/>,\n",
       " <img alt=\"more arrow\" src=\"/assets/images/overlay-arrow.png\"/>,\n",
       " <img alt=\"A Criss-Cross Landscape with Fresh Craters\" class=\"thumb\" src=\"/spaceimages/images/wallpaper/PIA24146-640x350.jpg\" title=\"A Criss-Cross Landscape with Fresh Craters\"/>,\n",
       " <img alt=\"more arrow\" src=\"/assets/images/overlay-arrow.png\"/>,\n",
       " <img alt=\"Rabe Crater Dunes\" class=\"thumb\" src=\"/spaceimages/images/wallpaper/PIA24151-640x350.jpg\" title=\"Rabe Crater Dunes\"/>,\n",
       " <img alt=\"more arrow\" src=\"/assets/images/overlay-arrow.png\"/>,\n",
       " <img alt=\"All Broken Up\" class=\"thumb\" src=\"/spaceimages/images/wallpaper/PIA24145-640x350.jpg\" title=\"All Broken Up\"/>,\n",
       " <img alt=\"more arrow\" src=\"/assets/images/overlay-arrow.png\"/>,\n",
       " <img alt=\"Southern Noachis Terra\" class=\"thumb\" src=\"/spaceimages/images/wallpaper/PIA24144-640x350.jpg\" title=\"Southern Noachis Terra\"/>,\n",
       " <img alt=\"more arrow\" src=\"/assets/images/overlay-arrow.png\"/>,\n",
       " <img alt=\"Mangala Fossae\" class=\"thumb\" src=\"/spaceimages/images/wallpaper/PIA24143-640x350.jpg\" title=\"Mangala Fossae\"/>,\n",
       " <img alt=\"more arrow\" src=\"/assets/images/overlay-arrow.png\"/>,\n",
       " <img alt=\"Proctor Crater Dunes\" class=\"thumb\" src=\"/spaceimages/images/wallpaper/PIA24142-640x350.jpg\" title=\"Proctor Crater Dunes\"/>,\n",
       " <img alt=\"more arrow\" src=\"/assets/images/overlay-arrow.png\"/>,\n",
       " <img alt=\"Ascraeus Mons\" class=\"thumb\" src=\"/spaceimages/images/wallpaper/PIA24141-640x350.jpg\" title=\"Ascraeus Mons\"/>,\n",
       " <img alt=\"more arrow\" src=\"/assets/images/overlay-arrow.png\"/>,\n",
       " <img alt=\"Nirgal Vallis\" class=\"thumb\" src=\"/spaceimages/images/wallpaper/PIA24125-640x350.jpg\" title=\"Nirgal Vallis\"/>,\n",
       " <img alt=\"more arrow\" src=\"/assets/images/overlay-arrow.png\"/>,\n",
       " <img alt=\"Machine Learning Spots a Cluster of Mars Craters: Context Camera\" class=\"thumb\" s=\"\" src=\"/spaceimages/images/wallpaper/PIA24091-640x350.jpg\" title=\"Machine Learning Spots a Cluster of Mars Craters: Context Camera\" view'=\"\"/>,\n",
       " <img alt=\"more arrow\" src=\"/assets/images/overlay-arrow.png\"/>,\n",
       " <img alt=\"AI Spots a Cluster of Mars Craters: HiRISE\" class=\"thumb\" s=\"\" src=\"/spaceimages/images/wallpaper/PIA24040-640x350.jpg\" title=\"AI Spots a Cluster of Mars Craters: HiRISE\" view'=\"\"/>,\n",
       " <img alt=\"jpl photojournal\" class=\"thumb\" src=\"/assets/images/content/tmp/images/jpl_photojournal(3x1).jpg\"/>,\n",
       " <img alt=\"Great images in NASA\" class=\"thumb\" src=\"/assets/images/content/tmp/images/nasa_images(3x1).jpg\"/>,\n",
       " <img alt=\"more arrow\" src=\"/assets/images/overlay-arrow.png\"/>,\n",
       " <img alt=\"Crews conduct critical upgrades and repairs to the 70-meter-wide (230-foot-wide) radio antenna Deep Space Station 43 in Canberra, Australia\" src=\"//imagecache.jpl.nasa.gov/images/640x350/C-voyager2-7sec-640x350.jpg\"/>,\n",
       " <img alt=\"more arrow\" src=\"/assets/images/overlay-arrow.png\"/>,\n",
       " <img alt=\"The Earth rises above the lunar horizon in this telephoto view taken from the Apollo 8 spacecraft\" src=\"//imagecache.jpl.nasa.gov/images/640x350/C1-earth-from-moon-apollo-8-16-640x350.jpg\"/>,\n",
       " <img alt=\"more arrow\" src=\"/assets/images/overlay-arrow.png\"/>,\n",
       " <img alt=\"The lightning phenomenon known as a sprite depicted at Jupiter in this illustration\" src=\"//imagecache.jpl.nasa.gov/images/640x350/1-PIA23989-16-640x350.jpg\"/>,\n",
       " <img class=\"fancybox-image\" src=\"/spaceimages/images/mediumsize/PIA17448_ip.jpg\" style=\"display: inline;\"/>,\n",
       " <img src=\"/assets/images/content/tmp/images/share.png\"/>,\n",
       " <img src=\"/spaceimages/images/mediumsize/PIA17448_ip.jpg\" style=\"width: 88px; height: 50px; margin-top: 0px; margin-left: -7px;\"/>,\n",
       " <img src=\"/spaceimages/images/wallpaper/PIA24189-640x350.jpg\" style=\"width: 91px; height: 50px; margin-top: 0px; margin-left: -9px;\"/>,\n",
       " <img src=\"/spaceimages/images/wallpaper/PIA24188-640x350.jpg\" style=\"width: 91px; height: 50px; margin-top: 0px; margin-left: -9px;\"/>,\n",
       " <img src=\"/spaceimages/images/wallpaper/PIA24187-640x350.jpg\" style=\"width: 91px; height: 50px; margin-top: 0px; margin-left: -9px;\"/>,\n",
       " <img src=\"/spaceimages/images/wallpaper/PIA24186-640x350.jpg\" style=\"width: 91px; height: 50px; margin-top: 0px; margin-left: -9px;\"/>,\n",
       " <img src=\"/spaceimages/images/wallpaper/PIA24185-640x350.jpg\" style=\"width: 91px; height: 50px; margin-top: 0px; margin-left: -9px;\"/>,\n",
       " <img src=\"/spaceimages/images/wallpaper/PIA24184-640x350.jpg\" style=\"width: 91px; height: 50px; margin-top: 0px; margin-left: -9px;\"/>,\n",
       " <img src=\"/spaceimages/images/wallpaper/PIA24183-640x350.jpg\" style=\"width: 91px; height: 50px; margin-top: 0px; margin-left: -9px;\"/>,\n",
       " <img src=\"/spaceimages/images/wallpaper/PIA24182-640x350.jpg\" style=\"width: 91px; height: 50px; margin-top: 0px; margin-left: -9px;\"/>,\n",
       " <img src=\"/spaceimages/images/wallpaper/PIA24181-640x350.jpg\" style=\"width: 91px; height: 50px; margin-top: 0px; margin-left: -9px;\"/>]"
      ]
     },
     "metadata": {},
     "execution_count": 20
    }
   ],
   "source": [
    "soup.find_all('img')"
   ]
  },
  {
   "cell_type": "code",
   "execution_count": 21,
   "metadata": {},
   "outputs": [],
   "source": [
    "tables = pd.read_html('https://space-facts.com/mars/')"
   ]
  },
  {
   "cell_type": "code",
   "execution_count": 22,
   "metadata": {},
   "outputs": [],
   "source": [
    "me_comparison_df = tables[1]\n"
   ]
  },
  {
   "cell_type": "code",
   "execution_count": 23,
   "metadata": {},
   "outputs": [
    {
     "output_type": "execute_result",
     "data": {
      "text/plain": [
       "str"
      ]
     },
     "metadata": {},
     "execution_count": 23
    }
   ],
   "source": [
    "type(me_comparison_df.to_html())"
   ]
  },
  {
   "cell_type": "code",
   "execution_count": 61,
   "metadata": {},
   "outputs": [
    {
     "output_type": "execute_result",
     "data": {
      "text/plain": [
       "{'title': 'Valles Marineris Hemisphere Enhanced',\n",
       " 'img_url': 'https://astrogeology.usgs.gov/search/map/Mars/Viking/valles_marineris_enhanced'}"
      ]
     },
     "metadata": {},
     "execution_count": 61
    }
   ],
   "source": [
    "url = 'https://astrogeology.usgs.gov/search/results?q=hemisphere+enhanced&k1=target&v1=Mars'\n",
    "browser.visit(url)\n",
    "soup = bs4(browser.html, 'html.parser')\n",
    "desc = soup.find_all('h3')\n",
    "hemi_title = [x.text for x in desc]\n",
    "hemi_urls = {}\n",
    "for title in hemi_title:\n",
    "    browser.click_link_by_partial_text(title)\n",
    "    browser.click_link_by_partial_text('Sample')\n",
    "    hemi_urls.update({'title':title,'img_url':browser.url})\n",
    "    browser.visit(url)\n",
    "hemi_urls"
   ]
  },
  {
   "cell_type": "code",
   "execution_count": null,
   "metadata": {},
   "outputs": [],
   "source": []
  }
 ]
}